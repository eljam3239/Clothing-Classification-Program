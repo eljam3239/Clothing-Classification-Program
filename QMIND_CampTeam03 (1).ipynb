{
  "nbformat": 4,
  "nbformat_minor": 0,
  "metadata": {
    "colab": {
      "name": "QMIND-CampTeam03.ipynb",
      "provenance": [],
      "collapsed_sections": [],
      "toc_visible": true
    },
    "kernelspec": {
      "name": "python3",
      "display_name": "Python 3"
    }
  },
  "cells": [
    {
      "cell_type": "code",
      "metadata": {
        "id": "WeVl_5AeHpB7"
      },
      "source": [
        "import pandas as pd\n",
        "import numpy as np\n",
        "import matplotlib.pyplot as plt\n",
        "\n",
        "from sklearn.model_selection import train_test_split\n",
        "\n",
        "from sklearn.multiclass import OneVsRestClassifier\n",
        "from sklearn.svm import SVC\n",
        "\n",
        "from sklearn.metrics import accuracy_score\n",
        "\n",
        "import math"
      ],
      "execution_count": null,
      "outputs": []
    },
    {
      "cell_type": "code",
      "metadata": {
        "id": "Z0lzz51eJ_Ti"
      },
      "source": [
        "df = pd.read_csv(\"finalTrain.csv\")\n",
        "fp = pd.read_csv(\"finalPredict.csv\")"
      ],
      "execution_count": null,
      "outputs": []
    },
    {
      "cell_type": "code",
      "metadata": {
        "id": "GT3zQ8iVsvaP",
        "colab": {
          "base_uri": "https://localhost:8080/",
          "height": 503
        },
        "outputId": "6209711e-0887-4b4f-b1c5-1520adb65c5a"
      },
      "source": [
        "dfraw = df.drop(\"label\", axis=1)\n",
        "# Generate random array \n",
        "width = int(math.sqrt(len(dfraw.loc[0,:]))) \n",
        "#print(width)\n",
        "length = int(math.sqrt(len(dfraw.loc[0,:])))\n",
        "\n",
        "print(dfraw)\n",
        "iMat = dfraw.to_numpy()\n",
        "# Show it! \n",
        "plt.imshow(iMat[2].reshape(width, length),'gray') \n",
        "plt.show()  "
      ],
      "execution_count": null,
      "outputs": [
        {
          "output_type": "stream",
          "text": [
            "       pixel1  pixel2  pixel3  pixel4  ...  pixel781  pixel782  pixel783  pixel784\n",
            "0           0       0       0       0  ...         0         0         0         0\n",
            "1           0       0       0       0  ...         0         0         0         0\n",
            "2           0       0       0       0  ...         0         0         0         0\n",
            "3           0       0       0       0  ...         0         0         1         0\n",
            "4           0       0       0       0  ...         0         0         0         0\n",
            "...       ...     ...     ...     ...  ...       ...       ...       ...       ...\n",
            "59995       0       0       0       0  ...         0         0         0         0\n",
            "59996       0       0       0       0  ...         0         0         0         0\n",
            "59997       0       0       0       0  ...         2         0         0         0\n",
            "59998       0       0       0       0  ...         0         0         0         0\n",
            "59999       0       0       0       0  ...         0         0         0         0\n",
            "\n",
            "[60000 rows x 784 columns]\n"
          ],
          "name": "stdout"
        },
        {
          "output_type": "display_data",
          "data": {
            "image/png": "[encoded data removed]",
            "text/plain": [
              "<Figure size 432x288 with 1 Axes>"
            ]
          },
          "metadata": {
            "tags": [],
            "needs_background": "light"
          }
        }
      ]
    },
    {
      "cell_type": "code",
      "metadata": {
        "id": "RongqUNqL2xl"
      },
      "source": [
        "def data_split(examples, labels, train_frac, random_state=5):\n",
        "    ''' https://scikit-learn.org/stable/modules/generated/sklearn.model_selection.train_test_split.html\n",
        "    param data:       Data to be split\n",
        "    param train_frac: Ratio of train set to whole dataset\n",
        "\n",
        "    Randomly split dataset, based on these ratios:\n",
        "        'train': train_frac\n",
        "        'valid': (1-train_frac) / 2\n",
        "        'test':  (1-train_frac) / 2\n",
        "\n",
        "    Eg: passing train_frac=0.8 gives a 80% / 10% / 10% split\n",
        "    '''\n",
        "\n",
        "    X_train, X_tmp, Y_train, Y_tmp = train_test_split(\n",
        "        examples, labels, train_size=train_frac, random_state=random_state)\n",
        "\n",
        "    X_val, X_test, Y_val, Y_test = train_test_split(X_tmp,\n",
        "                                                    Y_tmp,\n",
        "                                                    train_size=0.5,\n",
        "                                                    random_state=random_state)\n",
        "\n",
        "    return X_train, X_val, X_test, Y_train, Y_val, Y_test"
      ],
      "execution_count": null,
      "outputs": []
    },
    {
      "cell_type": "code",
      "metadata": {
        "id": "7VF9sp0ML7bz"
      },
      "source": [
        "X_train, X_val, X_test, Y_train, Y_val, Y_test = data_split(examples=df.drop(\"label\", axis=1),\n",
        "                                                            labels=df.label,train_frac=0.1)"
      ],
      "execution_count": null,
      "outputs": []
    },
    {
      "cell_type": "code",
      "metadata": {
        "id": "OjwpUu3qM5Gy"
      },
      "source": [
        "def scores(actual, prediction):\n",
        "    print(\"RMSE score is {:3f}\".format(\n",
        "        mean_squared_error(actual, prediction, squared=False)))\n",
        "    print(\"R^2 score is {:3f}\".format(r2_score(actual, prediction)))"
      ],
      "execution_count": null,
      "outputs": []
    },
    {
      "cell_type": "code",
      "metadata": {
        "id": "FKdLUaUTVvXD"
      },
      "source": [
        "clf = OneVsRestClassifier(SVC()).fit(X_train, Y_train)"
      ],
      "execution_count": null,
      "outputs": []
    },
    {
      "cell_type": "code",
      "metadata": {
        "id": "kAni3iPrGmsx"
      },
      "source": [
        "y_pred_test = clf.predict(X_test)"
      ],
      "execution_count": null,
      "outputs": []
    },
    {
      "cell_type": "code",
      "metadata": {
        "id": "Wj_tELmaGsV6",
        "colab": {
          "base_uri": "https://localhost:8080/",
          "height": 34
        },
        "outputId": "176f3589-21e4-404a-f952-6260e20d5113"
      },
      "source": [
        "accuracy_score(Y_test, y_pred_test)"
      ],
      "execution_count": null,
      "outputs": [
        {
          "output_type": "execute_result",
          "data": {
            "text/plain": [
              "0.8528888888888889"
            ]
          },
          "metadata": {
            "tags": []
          },
          "execution_count": 149
        }
      ]
    },
    {
      "cell_type": "code",
      "metadata": {
        "id": "b_KqF8cMbB23"
      },
      "source": [
        "y_pred = clf.predict(fp)"
      ],
      "execution_count": null,
      "outputs": []
    },
    {
      "cell_type": "code",
      "metadata": {
        "id": "51OFf7wSA2XM"
      },
      "source": [
        "test = np.array()"
      ],
      "execution_count": null,
      "outputs": []
    },
    {
      "cell_type": "code",
      "metadata": {
        "id": "cijD28168lQf"
      },
      "source": [
        "pd.DataFrame(y_pred).to_csv(\"team3results.csv\", header = False, index = False)\n",
        "\n"
      ],
      "execution_count": null,
      "outputs": []
    }
  ]
}